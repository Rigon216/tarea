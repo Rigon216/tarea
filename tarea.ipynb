{
  "nbformat": 4,
  "nbformat_minor": 0,
  "metadata": {
    "colab": {
      "provenance": [],
      "authorship_tag": "ABX9TyOKHeHHQClIIbODfiMydRu9",
      "include_colab_link": true
    },
    "kernelspec": {
      "name": "python3",
      "display_name": "Python 3"
    },
    "language_info": {
      "name": "python"
    }
  },
  "cells": [
    {
      "cell_type": "markdown",
      "metadata": {
        "id": "view-in-github",
        "colab_type": "text"
      },
      "source": [
        "<a href=\"https://colab.research.google.com/github/Rigon216/tarea/blob/main/tarea.ipynb\" target=\"_parent\"><img src=\"https://colab.research.google.com/assets/colab-badge.svg\" alt=\"Open In Colab\"/></a>"
      ]
    },
    {
      "cell_type": "code",
      "execution_count": null,
      "metadata": {
        "colab": {
          "base_uri": "https://localhost:8080/"
        },
        "id": "BzYY_uESE1sd",
        "outputId": "9247cc53-a1be-4f5e-a6a3-9ca064dbf0bc"
      },
      "outputs": [
        {
          "output_type": "stream",
          "name": "stdout",
          "text": [
            "Altura máxima alcanzada: 74.07407407407408 metros\n",
            "Tiempo para alcanzar la altura máxima: 3.7037037037037033 segundos\n"
          ]
        }
      ],
      "source": [
        "import math \n",
        "\n",
        "\n",
        "def fisica(velocidadInicial, velocidadFinal, tiempo1, tiempo2, aceleracion1, alturaInicial):\n",
        "    cadena = \"Altura maxima\"\n",
        "\n",
        "    if cadena == \"Calcular desplazamiento\":\n",
        "        velocidad_inicial = velocidadInicial  \n",
        "        aceleracion = aceleracion1  \n",
        "        tiempo = tiempo1  \n",
        "\n",
        "        velocidad_final = velocidad_inicial + (aceleracion * tiempo)\n",
        "        desplazamiento = (velocidad_inicial * tiempo) + (0.5 * aceleracion * tiempo**2)\n",
        "\n",
        "        print(\"Velocidad final:\", velocidad_final, \"m/s\")\n",
        "        print(\"Desplazamiento:\", desplazamiento, \"metros\")\n",
        "\n",
        "    elif cadena == \"Tiempo de caida\":\n",
        "      altura_inicial = alturaInicial \n",
        "      gravedad = aceleracion1  \n",
        "\n",
        "      velocidad_final = math.sqrt(2 * gravedad * altura_inicial)\n",
        "      tiempo_caída = math.sqrt((2 * altura_inicial) / gravedad)\n",
        "\n",
        "      print(\"Velocidad final:\", velocidad_final, \"m/s\")\n",
        "      print(\"Tiempo de caída:\", tiempo_caída, \"segundos\")\n",
        "\n",
        "    elif cadena == \"Calcular a dos tiempos\":\n",
        "      velocidad_inicial = velocidadInicial  \n",
        "      tiempo_1 = tiempo1  \n",
        "      aceleracion = aceleracion1  \n",
        "      tiempo_2 = tiempo2 \n",
        "\n",
        "      velocidad_final = velocidad_inicial + (aceleracion * tiempo_2)\n",
        "\n",
        "      desplazamiento_1 = velocidad_inicial * tiempo_1\n",
        "      desplazamiento_2 = (velocidad_inicial * tiempo_2) + (0.5 * aceleracion * tiempo_2**2)\n",
        "      desplazamiento_total = desplazamiento_1 + desplazamiento_2\n",
        "\n",
        "      print(\"Velocidad final:\", velocidad_final, \"m/s\")\n",
        "      print(\"Desplazamiento total:\", desplazamiento_total, \"metros\")\n",
        "\n",
        "    elif cadena == \"Altura maxima\":\n",
        "      \n",
        "      tiempo_alcanzar_altura_maxima = - velocidadInicial / aceleracion1\n",
        "      altura_maxima = (velocidadInicial ** 2) / (2 * abs(aceleracion1))\n",
        "\n",
        "      velocidad_inicial = velocidadInicial  # Velocidad inicial en m/s\n",
        "      aceleracion_gravedad = aceleracion1  # Aceleración debida a la gravedad en m/s^2\n",
        "\n",
        "      print(\"Altura máxima alcanzada:\", altura_maxima, \"metros\")\n",
        "      print(\"Tiempo para alcanzar la altura máxima:\", tiempo_alcanzar_altura_maxima, \"segundos\")\n",
        "\n",
        "\n",
        "# Ejemplo de uso de la función\n",
        "fisica(40, 0, 0, 0, -10.8, 0)"
      ]
    }
  ]
}